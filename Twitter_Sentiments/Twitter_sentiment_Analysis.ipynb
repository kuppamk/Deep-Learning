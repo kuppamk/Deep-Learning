{
  "cells": [
    {
      "metadata": {
        "_uuid": "8f2839f25d086af736a60e9eeb907d3b93b6e0e5",
        "_cell_guid": "b1076dfc-b9ad-4769-8c92-a6c4dae69d19",
        "trusted": true
      },
      "cell_type": "code",
      "source": "# This Python 3 environment comes with many helpful analytics libraries installed\n# It is defined by the kaggle/python docker image: https://github.com/kaggle/docker-python\n# For example, here's several helpful packages to load in \n\nimport numpy as np # linear algebra\nimport pandas as pd # data processing, CSV file I/O (e.g. pd.read_csv)\n\n# Input data files are available in the \"../input/\" directory.\n# For example, running this (by clicking run or pressing Shift+Enter) will list the files in the input directory\n\nimport os\nprint(os.listdir(\"../input\"))\n\n# Any results you write to the current directory are saved as output.\nprint(os.listdir(\"../input/twitter-senti\"))\nprint(os.listdir(\"../input/glove-twitter\"))",
      "execution_count": 1,
      "outputs": [
        {
          "output_type": "stream",
          "text": "['twitter-senti', 'glove-twitter']\n['train.tsv', 'test.tsv']\n['glove.twitter.27B.25d.txt']\n",
          "name": "stdout"
        }
      ]
    },
    {
      "metadata": {
        "_cell_guid": "79c7e3d0-c299-4dcb-8224-4455121ee9b0",
        "_uuid": "d629ff2d2480ee46fbb7e2d37f6b5fab8052498a",
        "trusted": true
      },
      "cell_type": "code",
      "source": "\ntrain = pd.read_csv('../input/twitter-senti/train.tsv',sep='\\t')\ntest = pd.read_csv('../input/twitter-senti/test.tsv',sep='\\t')\ntrain.head()",
      "execution_count": 2,
      "outputs": [
        {
          "output_type": "execute_result",
          "execution_count": 2,
          "data": {
            "text/plain": "                   id  ...  label\n0  264183816548130816  ...      1\n1  264249301910310912  ...     -1\n2  264105751826538497  ...      1\n3  264094586689953794  ...     -1\n4  254941790757601280  ...     -1\n\n[5 rows x 3 columns]",
            "text/html": "<div>\n<style scoped>\n    .dataframe tbody tr th:only-of-type {\n        vertical-align: middle;\n    }\n\n    .dataframe tbody tr th {\n        vertical-align: top;\n    }\n\n    .dataframe thead th {\n        text-align: right;\n    }\n</style>\n<table border=\"1\" class=\"dataframe\">\n  <thead>\n    <tr style=\"text-align: right;\">\n      <th></th>\n      <th>id</th>\n      <th>tweet</th>\n      <th>label</th>\n    </tr>\n  </thead>\n  <tbody>\n    <tr>\n      <th>0</th>\n      <td>264183816548130816</td>\n      <td>Gas by my house hit $3.39!!!! I'm going to Cha...</td>\n      <td>1</td>\n    </tr>\n    <tr>\n      <th>1</th>\n      <td>264249301910310912</td>\n      <td>Iranian general says Israel's Iron Dome can't ...</td>\n      <td>-1</td>\n    </tr>\n    <tr>\n      <th>2</th>\n      <td>264105751826538497</td>\n      <td>with J Davlar 11th. Main rivals are team Polan...</td>\n      <td>1</td>\n    </tr>\n    <tr>\n      <th>3</th>\n      <td>264094586689953794</td>\n      <td>Talking about ACT's &amp;&amp; SAT's, deciding where I...</td>\n      <td>-1</td>\n    </tr>\n    <tr>\n      <th>4</th>\n      <td>254941790757601280</td>\n      <td>They may have a SuperBowl in Dallas, but Dalla...</td>\n      <td>-1</td>\n    </tr>\n  </tbody>\n</table>\n</div>"
          },
          "metadata": {}
        }
      ]
    },
    {
      "metadata": {
        "trusted": true,
        "_uuid": "e0b0a26e72a34841733e9a8b22b85b6f1db6bab0"
      },
      "cell_type": "code",
      "source": "test.head()",
      "execution_count": 3,
      "outputs": [
        {
          "output_type": "execute_result",
          "execution_count": 3,
          "data": {
            "text/plain": "                   id  ...  label\n0  260097528899452929  ...      0\n1  263791921753882624  ...      0\n2  260486470828171265  ...      0\n3  262968617233162240  ...      1\n4  263790847424880641  ...      1\n\n[5 rows x 3 columns]",
            "text/html": "<div>\n<style scoped>\n    .dataframe tbody tr th:only-of-type {\n        vertical-align: middle;\n    }\n\n    .dataframe tbody tr th {\n        vertical-align: top;\n    }\n\n    .dataframe thead th {\n        text-align: right;\n    }\n</style>\n<table border=\"1\" class=\"dataframe\">\n  <thead>\n    <tr style=\"text-align: right;\">\n      <th></th>\n      <th>id</th>\n      <th>tweet</th>\n      <th>label</th>\n    </tr>\n  </thead>\n  <tbody>\n    <tr>\n      <th>0</th>\n      <td>260097528899452929</td>\n      <td>Won the match #getin . Plus, tomorrow is a ver...</td>\n      <td>0</td>\n    </tr>\n    <tr>\n      <th>1</th>\n      <td>263791921753882624</td>\n      <td>Some areas of New England could see the first ...</td>\n      <td>0</td>\n    </tr>\n    <tr>\n      <th>2</th>\n      <td>260486470828171265</td>\n      <td>Tina Fey &amp; Amy Poehler are hosting the Golden ...</td>\n      <td>0</td>\n    </tr>\n    <tr>\n      <th>3</th>\n      <td>262968617233162240</td>\n      <td>Lunch from my new Lil spot ...THE COTTON BOWL ...</td>\n      <td>1</td>\n    </tr>\n    <tr>\n      <th>4</th>\n      <td>263790847424880641</td>\n      <td>SNC Halloween Pr. Pumped. Let's work it for Su...</td>\n      <td>1</td>\n    </tr>\n  </tbody>\n</table>\n</div>"
          },
          "metadata": {}
        }
      ]
    },
    {
      "metadata": {
        "trusted": true,
        "_uuid": "397b7584bd9452b6398acf6101edd7225f411b73"
      },
      "cell_type": "code",
      "source": "embed_matrix = {}\nfile= open('../input/glove-twitter/glove.twitter.27B.25d.txt')\nfor line in file:\n    values = line.split()\n    word = values[0]\n    coefs = np.array(values[1:],dtype='float32')\n    embed_matrix[word]=coefs\nfile.close()",
      "execution_count": 4,
      "outputs": []
    },
    {
      "metadata": {
        "trusted": true,
        "_uuid": "b284a6319dd1af72cac1f0cf2ad34c13b6f3da17"
      },
      "cell_type": "code",
      "source": "len(embed_matrix)",
      "execution_count": 5,
      "outputs": [
        {
          "output_type": "execute_result",
          "execution_count": 5,
          "data": {
            "text/plain": "1193515"
          },
          "metadata": {}
        }
      ]
    },
    {
      "metadata": {
        "trusted": true,
        "_uuid": "665defdefe687941c213c5b68900f0d224bef863"
      },
      "cell_type": "code",
      "source": "train.info()",
      "execution_count": 6,
      "outputs": [
        {
          "output_type": "stream",
          "text": "<class 'pandas.core.frame.DataFrame'>\nRangeIndex: 7589 entries, 0 to 7588\nData columns (total 3 columns):\nid       7589 non-null int64\ntweet    7589 non-null object\nlabel    7589 non-null int64\ndtypes: int64(2), object(1)\nmemory usage: 177.9+ KB\n",
          "name": "stdout"
        }
      ]
    },
    {
      "metadata": {
        "trusted": true,
        "_uuid": "c9cc1a1501cf0e5bd16d0a3d67ec439f3063ecda"
      },
      "cell_type": "code",
      "source": "train.label.unique()",
      "execution_count": 7,
      "outputs": [
        {
          "output_type": "execute_result",
          "execution_count": 7,
          "data": {
            "text/plain": "array([ 1, -1,  0])"
          },
          "metadata": {}
        }
      ]
    },
    {
      "metadata": {
        "trusted": true,
        "_uuid": "076e1ef58b0bfa242d93f943756bf3e4c5de8cbb"
      },
      "cell_type": "code",
      "source": "from  keras.preprocessing.text import Tokenizer\ntoken = Tokenizer(num_words=2000, split=' ')\ntoken.fit_on_texts(list(train['tweet']))\nX = token.texts_to_sequences(list(train['tweet']))",
      "execution_count": 8,
      "outputs": [
        {
          "output_type": "stream",
          "text": "Using TensorFlow backend.\n",
          "name": "stderr"
        }
      ]
    },
    {
      "metadata": {
        "trusted": true,
        "_uuid": "83e4c371eca0586619622169b912c08f1fe66af0"
      },
      "cell_type": "code",
      "source": "length =[len(x) for x in X]\nprint (max(length))",
      "execution_count": 9,
      "outputs": [
        {
          "output_type": "stream",
          "text": "175\n",
          "name": "stdout"
        }
      ]
    },
    {
      "metadata": {
        "trusted": true,
        "_uuid": "c10dbc4fbdf507576c79f9c10d5b17bbd53e5241"
      },
      "cell_type": "code",
      "source": "from keras.preprocessing.sequence import pad_sequences\nX_pad = pad_sequences(X)   # Pad sequences with maximum length",
      "execution_count": 10,
      "outputs": []
    },
    {
      "metadata": {
        "trusted": true,
        "_uuid": "f46232c2fb37a2d0f30bc20b33912a88a25ebf0b"
      },
      "cell_type": "code",
      "source": "X_pad.shape[1]",
      "execution_count": 11,
      "outputs": [
        {
          "output_type": "execute_result",
          "execution_count": 11,
          "data": {
            "text/plain": "175"
          },
          "metadata": {}
        }
      ]
    },
    {
      "metadata": {
        "trusted": true,
        "_uuid": "a22fc1f2ffede95c024f3ee823d2a7ecee339cce"
      },
      "cell_type": "code",
      "source": "Y = pd.get_dummies(train['label'])\nY.shape",
      "execution_count": 12,
      "outputs": [
        {
          "output_type": "execute_result",
          "execution_count": 12,
          "data": {
            "text/plain": "(7589, 3)"
          },
          "metadata": {}
        }
      ]
    },
    {
      "metadata": {
        "trusted": true,
        "_uuid": "7be0adf1dfc8be84000a98845d75bc4937ae5f66"
      },
      "cell_type": "code",
      "source": "from keras.models import Sequential\nfrom keras.layers import Dense,Activation,Flatten,Dropout,BatchNormalization",
      "execution_count": 13,
      "outputs": []
    },
    {
      "metadata": {
        "trusted": true,
        "_uuid": "3fa863eadb5ef5573ba8462e61ec2184d060a320"
      },
      "cell_type": "code",
      "source": "model = Sequential()\nmodel.add(Dense(128,input_dim=X_pad.shape[1],activation='relu'))\nmodel.add(Dropout(0.5))\nmodel.add(BatchNormalization())\nmodel.add(Dense(256,activation='relu'))\nmodel.add(Dropout(0.5))\nmodel.add(BatchNormalization())\nmodel.add(Dense(3,activation='softmax'))\nmodel.summary()",
      "execution_count": 14,
      "outputs": [
        {
          "output_type": "stream",
          "text": "_________________________________________________________________\nLayer (type)                 Output Shape              Param #   \n=================================================================\ndense_1 (Dense)              (None, 128)               22528     \n_________________________________________________________________\ndropout_1 (Dropout)          (None, 128)               0         \n_________________________________________________________________\nbatch_normalization_1 (Batch (None, 128)               512       \n_________________________________________________________________\ndense_2 (Dense)              (None, 256)               33024     \n_________________________________________________________________\ndropout_2 (Dropout)          (None, 256)               0         \n_________________________________________________________________\nbatch_normalization_2 (Batch (None, 256)               1024      \n_________________________________________________________________\ndense_3 (Dense)              (None, 3)                 771       \n=================================================================\nTotal params: 57,859\nTrainable params: 57,091\nNon-trainable params: 768\n_________________________________________________________________\n",
          "name": "stdout"
        }
      ]
    },
    {
      "metadata": {
        "trusted": true,
        "_uuid": "4c41a8d0d5640be9e9fee25141d21683456301b3"
      },
      "cell_type": "code",
      "source": "from sklearn.model_selection import train_test_split\nx_train,x_test,y_train,y_test = train_test_split(X_pad,Y, test_size=0.2,random_state = 100)",
      "execution_count": 15,
      "outputs": []
    },
    {
      "metadata": {
        "trusted": true,
        "_uuid": "b9162ca638d92a4dbfdd1929465548f25d2068ec"
      },
      "cell_type": "code",
      "source": "x_train.shape",
      "execution_count": 16,
      "outputs": [
        {
          "output_type": "execute_result",
          "execution_count": 16,
          "data": {
            "text/plain": "(6071, 175)"
          },
          "metadata": {}
        }
      ]
    },
    {
      "metadata": {
        "trusted": true,
        "_uuid": "310a808a17c06ea596ff5b75a0afdc451b4cff10"
      },
      "cell_type": "code",
      "source": "x_test.shape",
      "execution_count": 17,
      "outputs": [
        {
          "output_type": "execute_result",
          "execution_count": 17,
          "data": {
            "text/plain": "(1518, 175)"
          },
          "metadata": {}
        }
      ]
    },
    {
      "metadata": {
        "trusted": true,
        "_uuid": "5fc8382a1b0343fee2b9b03518550d933239f8a6"
      },
      "cell_type": "code",
      "source": "model.compile(loss='categorical_crossentropy',\n              optimizer='sgd',\n              metrics=['accuracy'])\nmodel.fit(x_train,y_train,epochs= 50,batch_size=128)",
      "execution_count": 18,
      "outputs": [
        {
          "output_type": "stream",
          "text": "Epoch 1/50\n6071/6071 [==============================] - 2s 287us/step - loss: 1.4909 - acc: 0.3515\nEpoch 2/50\n6071/6071 [==============================] - 0s 58us/step - loss: 1.3539 - acc: 0.3820\nEpoch 3/50\n6071/6071 [==============================] - 0s 55us/step - loss: 1.2695 - acc: 0.3914\nEpoch 4/50\n6071/6071 [==============================] - 0s 58us/step - loss: 1.2094 - acc: 0.4113\nEpoch 5/50\n6071/6071 [==============================] - 0s 59us/step - loss: 1.1676 - acc: 0.4185\nEpoch 6/50\n6071/6071 [==============================] - 0s 55us/step - loss: 1.1449 - acc: 0.4261\nEpoch 7/50\n6071/6071 [==============================] - 0s 56us/step - loss: 1.1148 - acc: 0.4274\nEpoch 8/50\n6071/6071 [==============================] - 0s 57us/step - loss: 1.0902 - acc: 0.4398\nEpoch 9/50\n6071/6071 [==============================] - 0s 57us/step - loss: 1.0688 - acc: 0.4355\nEpoch 10/50\n6071/6071 [==============================] - 0s 56us/step - loss: 1.0725 - acc: 0.4383\nEpoch 11/50\n6071/6071 [==============================] - 0s 59us/step - loss: 1.0469 - acc: 0.4510\nEpoch 12/50\n6071/6071 [==============================] - 0s 57us/step - loss: 1.0386 - acc: 0.4451\nEpoch 13/50\n6071/6071 [==============================] - 0s 58us/step - loss: 1.0356 - acc: 0.4505\nEpoch 14/50\n6071/6071 [==============================] - 0s 59us/step - loss: 1.0271 - acc: 0.4576\nEpoch 15/50\n6071/6071 [==============================] - 0s 58us/step - loss: 1.0226 - acc: 0.4576\nEpoch 16/50\n6071/6071 [==============================] - 0s 57us/step - loss: 1.0088 - acc: 0.4716\nEpoch 17/50\n6071/6071 [==============================] - 0s 58us/step - loss: 1.0140 - acc: 0.4678\nEpoch 18/50\n6071/6071 [==============================] - 0s 57us/step - loss: 1.0107 - acc: 0.4716\nEpoch 19/50\n6071/6071 [==============================] - 0s 58us/step - loss: 1.0111 - acc: 0.4655\nEpoch 20/50\n6071/6071 [==============================] - 0s 58us/step - loss: 1.0063 - acc: 0.4726\nEpoch 21/50\n6071/6071 [==============================] - 0s 57us/step - loss: 1.0011 - acc: 0.4742\nEpoch 22/50\n6071/6071 [==============================] - 0s 55us/step - loss: 1.0023 - acc: 0.4750\nEpoch 23/50\n6071/6071 [==============================] - 0s 56us/step - loss: 0.9989 - acc: 0.4810\nEpoch 24/50\n6071/6071 [==============================] - 0s 57us/step - loss: 1.0021 - acc: 0.4777\nEpoch 25/50\n6071/6071 [==============================] - 0s 57us/step - loss: 1.0006 - acc: 0.4780\nEpoch 26/50\n6071/6071 [==============================] - 0s 57us/step - loss: 0.9998 - acc: 0.4813\nEpoch 27/50\n6071/6071 [==============================] - 0s 56us/step - loss: 0.9947 - acc: 0.4853\nEpoch 28/50\n6071/6071 [==============================] - 0s 56us/step - loss: 0.9946 - acc: 0.4815\nEpoch 29/50\n6071/6071 [==============================] - 0s 57us/step - loss: 0.9929 - acc: 0.4841\nEpoch 30/50\n6071/6071 [==============================] - 0s 56us/step - loss: 0.9943 - acc: 0.4826\nEpoch 31/50\n6071/6071 [==============================] - 0s 57us/step - loss: 0.9916 - acc: 0.4828\nEpoch 32/50\n6071/6071 [==============================] - 0s 56us/step - loss: 0.9923 - acc: 0.4813\nEpoch 33/50\n6071/6071 [==============================] - 0s 54us/step - loss: 0.9928 - acc: 0.4811\nEpoch 34/50\n6071/6071 [==============================] - 0s 59us/step - loss: 0.9915 - acc: 0.4846\nEpoch 35/50\n6071/6071 [==============================] - 0s 57us/step - loss: 0.9951 - acc: 0.4843\nEpoch 36/50\n6071/6071 [==============================] - 0s 58us/step - loss: 0.9935 - acc: 0.4818\nEpoch 37/50\n6071/6071 [==============================] - 0s 60us/step - loss: 0.9908 - acc: 0.4783\nEpoch 38/50\n6071/6071 [==============================] - 0s 58us/step - loss: 0.9893 - acc: 0.4777\nEpoch 39/50\n6071/6071 [==============================] - 0s 57us/step - loss: 0.9918 - acc: 0.4853\nEpoch 40/50\n6071/6071 [==============================] - 0s 58us/step - loss: 0.9897 - acc: 0.4889\nEpoch 41/50\n6071/6071 [==============================] - 0s 56us/step - loss: 0.9914 - acc: 0.4876\nEpoch 42/50\n6071/6071 [==============================] - 0s 57us/step - loss: 0.9898 - acc: 0.4797\nEpoch 43/50\n6071/6071 [==============================] - 0s 56us/step - loss: 0.9906 - acc: 0.4803\nEpoch 44/50\n6071/6071 [==============================] - 0s 57us/step - loss: 0.9909 - acc: 0.4867\nEpoch 45/50\n6071/6071 [==============================] - 0s 56us/step - loss: 0.9857 - acc: 0.4858\nEpoch 46/50\n6071/6071 [==============================] - 0s 57us/step - loss: 0.9924 - acc: 0.4726\nEpoch 47/50\n6071/6071 [==============================] - 0s 58us/step - loss: 0.9892 - acc: 0.4904\nEpoch 48/50\n6071/6071 [==============================] - 0s 56us/step - loss: 0.9869 - acc: 0.4823\nEpoch 49/50\n6071/6071 [==============================] - 0s 57us/step - loss: 0.9893 - acc: 0.4828\nEpoch 50/50\n6071/6071 [==============================] - 0s 58us/step - loss: 0.9879 - acc: 0.4900\n",
          "name": "stdout"
        },
        {
          "output_type": "execute_result",
          "execution_count": 18,
          "data": {
            "text/plain": "<keras.callbacks.History at 0x7f91d9191b70>"
          },
          "metadata": {}
        }
      ]
    },
    {
      "metadata": {
        "trusted": true,
        "_uuid": "1bb4ac576391fee98678cd018125431e10251a5d"
      },
      "cell_type": "code",
      "source": "model.evaluate(x_test,y_test)",
      "execution_count": 19,
      "outputs": [
        {
          "output_type": "stream",
          "text": "1518/1518 [==============================] - 0s 120us/step\n",
          "name": "stdout"
        },
        {
          "output_type": "execute_result",
          "execution_count": 19,
          "data": {
            "text/plain": "[0.996126765633132, 0.4822134386566474]"
          },
          "metadata": {}
        }
      ]
    },
    {
      "metadata": {
        "trusted": true,
        "_uuid": "a89fd11edf4fc05735da011e0d68e704fc01ccd6"
      },
      "cell_type": "code",
      "source": "diction = token.word_index\nlen(diction)",
      "execution_count": 20,
      "outputs": [
        {
          "output_type": "execute_result",
          "execution_count": 20,
          "data": {
            "text/plain": "21048"
          },
          "metadata": {}
        }
      ]
    },
    {
      "metadata": {
        "trusted": true,
        "_uuid": "b8dbdab39e2bebb17307e73a6c20f789a05efe37"
      },
      "cell_type": "code",
      "source": "EMBEDDING_DIM = 25\nembedding_matrix = np.zeros((len(token.word_index) + 1, EMBEDDING_DIM))\nfor word, i in token.word_index.items():\n    embedding_vector = embed_matrix.get(word)\n    if embedding_vector is not None:\n        # words not found in embedding index will be all-zeros.\n        embedding_matrix[i] = embedding_vector",
      "execution_count": 21,
      "outputs": []
    },
    {
      "metadata": {
        "trusted": true,
        "_uuid": "3a47d805a40164ab9f627a12d2d710307d2e34af"
      },
      "cell_type": "code",
      "source": "embedding_matrix.shape",
      "execution_count": 22,
      "outputs": [
        {
          "output_type": "execute_result",
          "execution_count": 22,
          "data": {
            "text/plain": "(21049, 25)"
          },
          "metadata": {}
        }
      ]
    },
    {
      "metadata": {
        "trusted": true,
        "_uuid": "b5de06c6ad6188b70bf98aff7bbb161555bbe99a"
      },
      "cell_type": "code",
      "source": "VOC_SIZE = len(token.word_index)+1\nEMB_DIM = 25\nINPUT_DIM = X_pad.shape[1]\nfrom keras.layers import Embedding, SimpleRNN,SpatialDropout1D,LSTM,GRU\nfrom keras import regularizers\nfrom keras.optimizers import *\nrnn_model = Sequential()\nrnn_model.add(Embedding(VOC_SIZE, EMB_DIM, input_length=INPUT_DIM,weights=[embedding_matrix],trainable=False))\nrnn_model.add(SpatialDropout1D(0.4))\nrnn_model.add(SimpleRNN(64,activation='relu',dropout=0.5, recurrent_dropout=0.5))\nrnn_model.add(Dropout(0.5))\nrnn_model.add(Dense(3,activation='softmax',kernel_regularizer=regularizers.l2(0.01)))\nrnn_model.compile(loss='categorical_crossentropy', optimizer=Adam(0.01),metrics=['accuracy'])\nrnn_model.summary()",
      "execution_count": 23,
      "outputs": [
        {
          "output_type": "stream",
          "text": "_________________________________________________________________\nLayer (type)                 Output Shape              Param #   \n=================================================================\nembedding_1 (Embedding)      (None, 175, 25)           526225    \n_________________________________________________________________\nspatial_dropout1d_1 (Spatial (None, 175, 25)           0         \n_________________________________________________________________\nsimple_rnn_1 (SimpleRNN)     (None, 64)                5760      \n_________________________________________________________________\ndropout_3 (Dropout)          (None, 64)                0         \n_________________________________________________________________\ndense_4 (Dense)              (None, 3)                 195       \n=================================================================\nTotal params: 532,180\nTrainable params: 5,955\nNon-trainable params: 526,225\n_________________________________________________________________\n",
          "name": "stdout"
        }
      ]
    },
    {
      "metadata": {
        "trusted": true,
        "_uuid": "f1dbdbfbe71bcb834e04b42d911b832baa26b85f"
      },
      "cell_type": "code",
      "source": "rnn_model.fit(x_train,y_train,epochs=5,batch_size=128)",
      "execution_count": 24,
      "outputs": [
        {
          "output_type": "stream",
          "text": "Epoch 1/5\n6071/6071 [==============================] - 7s 1ms/step - loss: 1.4389 - acc: 0.4474\nEpoch 2/5\n6071/6071 [==============================] - 7s 1ms/step - loss: 1.0185 - acc: 0.4902\nEpoch 3/5\n6071/6071 [==============================] - 7s 1ms/step - loss: 1.0103 - acc: 0.4802\nEpoch 4/5\n6071/6071 [==============================] - 7s 1ms/step - loss: 0.9996 - acc: 0.4879\nEpoch 5/5\n6071/6071 [==============================] - 7s 1ms/step - loss: 0.9980 - acc: 0.4848\n",
          "name": "stdout"
        },
        {
          "output_type": "execute_result",
          "execution_count": 24,
          "data": {
            "text/plain": "<keras.callbacks.History at 0x7f9257f6f668>"
          },
          "metadata": {}
        }
      ]
    },
    {
      "metadata": {
        "trusted": true,
        "_uuid": "c3dd1b107ad96b8523b0451c049bd96a4b78e6fa"
      },
      "cell_type": "code",
      "source": "rnn_model.evaluate(x_test,y_test)",
      "execution_count": 25,
      "outputs": [
        {
          "output_type": "stream",
          "text": "1518/1518 [==============================] - 4s 2ms/step\n",
          "name": "stdout"
        },
        {
          "output_type": "execute_result",
          "execution_count": 25,
          "data": {
            "text/plain": "[0.9880187464325796, 0.48287220049909607]"
          },
          "metadata": {}
        }
      ]
    },
    {
      "metadata": {
        "trusted": true,
        "_uuid": "48bc1f405cf2387c8132aeb0e04a197329ddc166"
      },
      "cell_type": "code",
      "source": "lstm_model = Sequential()\nlstm_model.add(Embedding(VOC_SIZE, EMB_DIM, input_length=INPUT_DIM,weights=[embedding_matrix],trainable=False))\nlstm_model.add(LSTM(64,activation='relu'))\nlstm_model.add(Dense(3,activation='softmax'))\nlstm_model.compile(loss='categorical_crossentropy', optimizer=Adam(0.001),metrics=['accuracy'])\nlstm_model.summary()",
      "execution_count": 26,
      "outputs": [
        {
          "output_type": "stream",
          "text": "_________________________________________________________________\nLayer (type)                 Output Shape              Param #   \n=================================================================\nembedding_2 (Embedding)      (None, 175, 25)           526225    \n_________________________________________________________________\nlstm_1 (LSTM)                (None, 64)                23040     \n_________________________________________________________________\ndense_5 (Dense)              (None, 3)                 195       \n=================================================================\nTotal params: 549,460\nTrainable params: 23,235\nNon-trainable params: 526,225\n_________________________________________________________________\n",
          "name": "stdout"
        }
      ]
    },
    {
      "metadata": {
        "trusted": true,
        "_uuid": "94b0095b5fb97f96356e17c4d13a776c5640db94"
      },
      "cell_type": "code",
      "source": "lstm_model.fit(x_train,y_train,epochs=5,batch_size=128)",
      "execution_count": null,
      "outputs": []
    },
    {
      "metadata": {
        "trusted": true,
        "_uuid": "fdea320d8d5be0c6c31e2ebf98a9e392eb63185a"
      },
      "cell_type": "code",
      "source": "lstm_model.evaluate(x_test,y_test)",
      "execution_count": null,
      "outputs": []
    },
    {
      "metadata": {
        "trusted": true,
        "_uuid": "4adc6fe81c4781a8d350369b7739d074ae384e7d"
      },
      "cell_type": "code",
      "source": "gru_model = Sequential()\ngru_model.add(Embedding(VOC_SIZE, EMB_DIM, input_length=INPUT_DIM,weights=[embedding_matrix],trainable=False))\ngru_model.add(GRU(64,activation='relu'))\ngru_model.add(Dense(3,activation='softmax'))\ngru_model.compile(loss='categorical_crossentropy', optimizer=Adam(0.001),metrics=['accuracy'])\ngru_model.summary()",
      "execution_count": null,
      "outputs": []
    },
    {
      "metadata": {
        "trusted": true,
        "_uuid": "dfa46d2013e6135d47b63a4fdc3903d2d657a268"
      },
      "cell_type": "code",
      "source": "gru_model.fit(x_train,y_train,epochs=10,batch_size=128)",
      "execution_count": null,
      "outputs": []
    },
    {
      "metadata": {
        "trusted": true,
        "_uuid": "ed40544d299ff25a9658021ab45c79852ca2975b"
      },
      "cell_type": "code",
      "source": "gru_model.evaluate(x_test,y_test)",
      "execution_count": null,
      "outputs": []
    },
    {
      "metadata": {
        "trusted": true,
        "_uuid": "62c8eeca932748ab19940637e3e44a7a33105288"
      },
      "cell_type": "code",
      "source": "",
      "execution_count": null,
      "outputs": []
    }
  ],
  "metadata": {
    "kernelspec": {
      "display_name": "Python 3",
      "language": "python",
      "name": "python3"
    },
    "language_info": {
      "name": "python",
      "version": "3.6.6",
      "mimetype": "text/x-python",
      "codemirror_mode": {
        "name": "ipython",
        "version": 3
      },
      "pygments_lexer": "ipython3",
      "nbconvert_exporter": "python",
      "file_extension": ".py"
    }
  },
  "nbformat": 4,
  "nbformat_minor": 1
}
